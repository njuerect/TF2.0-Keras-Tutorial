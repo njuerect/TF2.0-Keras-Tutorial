{
  "nbformat": 4,
  "nbformat_minor": 0,
  "metadata": {
    "colab": {
      "name": "keras-MNIST.ipynb",
      "version": "0.3.2",
      "provenance": [],
      "collapsed_sections": [],
      "toc_visible": true,
      "include_colab_link": true
    },
    "kernelspec": {
      "name": "python3",
      "display_name": "Python 3"
    }
  },
  "cells": [
    {
      "cell_type": "markdown",
      "metadata": {
        "id": "view-in-github",
        "colab_type": "text"
      },
      "source": [
        "<a href=\"https://colab.research.google.com/github/njuerect/TF2.0-Keras-Tutorial/blob/master/keras_MNIST.ipynb\" target=\"_parent\"><img src=\"https://colab.research.google.com/assets/colab-badge.svg\" alt=\"Open In Colab\"/></a>"
      ]
    },
    {
      "cell_type": "code",
      "metadata": {
        "id": "8vBskFP-0Wdu",
        "colab_type": "code",
        "colab": {}
      },
      "source": [
        "import tensorflow as tf\n",
        "from tensorflow.keras.layers import Dense, Flatten, Conv2D\n",
        "from tensorflow.keras import Model"
      ],
      "execution_count": 0,
      "outputs": []
    },
    {
      "cell_type": "code",
      "metadata": {
        "id": "DyJfWU3O0d5Q",
        "colab_type": "code",
        "colab": {
          "base_uri": "https://localhost:8080/",
          "height": 289
        },
        "outputId": "14b4ee80-b06b-46e9-9b9e-35357d08e48f"
      },
      "source": [
        "inputs = tf.keras.Input(shape=(784,), name='img')\n",
        "h1 = Dense(32, activation='relu')(inputs)\n",
        "h2 = Dense(32, activation='relu')(h1)\n",
        "outputs = Dense(10, activation='softmax')(h2)\n",
        "model = Model(inputs=inputs, outputs=outputs, name='mnist model')\n",
        "\n",
        "model.summary()"
      ],
      "execution_count": 3,
      "outputs": [
        {
          "output_type": "stream",
          "text": [
            "Model: \"mnist model\"\n",
            "_________________________________________________________________\n",
            "Layer (type)                 Output Shape              Param #   \n",
            "=================================================================\n",
            "img (InputLayer)             [(None, 784)]             0         \n",
            "_________________________________________________________________\n",
            "dense (Dense)                (None, 32)                25120     \n",
            "_________________________________________________________________\n",
            "dense_1 (Dense)              (None, 32)                1056      \n",
            "_________________________________________________________________\n",
            "dense_2 (Dense)              (None, 10)                330       \n",
            "=================================================================\n",
            "Total params: 26,506\n",
            "Trainable params: 26,506\n",
            "Non-trainable params: 0\n",
            "_________________________________________________________________\n"
          ],
          "name": "stdout"
        }
      ]
    },
    {
      "cell_type": "code",
      "metadata": {
        "id": "Dq_h_zBV1Gg7",
        "colab_type": "code",
        "colab": {
          "base_uri": "https://localhost:8080/",
          "height": 105
        },
        "outputId": "5e32da40-d6ce-4d48-e1ee-4bfd3ea0374c"
      },
      "source": [
        "(x_train, y_train), (x_test, y_test) = tf.keras.datasets.mnist.load_data()\n",
        "x_train = x_train.reshape(60000, 784) / 255.0\n",
        "x_test = x_test.reshape(10000, 784) / 255.0\n",
        "model.compile(optimizer = tf.keras.optimizers.RMSprop(),\n",
        "             loss = 'sparse_categorical_crossentropy',\n",
        "             metrics = ['accuracy'])\n",
        "history = model.fit(x_train, y_train, batch_size=32, epochs=1, validation_split=0.2)\n",
        "test_scores = model.evaluate(x_test, y_test, verbose=0)\n",
        "print('test loss:', test_scores[0])\n",
        "print('test acc:', test_scores[1])"
      ],
      "execution_count": 5,
      "outputs": [
        {
          "output_type": "stream",
          "text": [
            "Train on 48000 samples, validate on 12000 samples\n",
            "48000/48000 [==============================] - 3s 72us/sample - loss: 0.3791 - accuracy: 0.8913 - val_loss: 0.2308 - val_accuracy: 0.9320\n",
            "test loss: 0.230860448564589\n",
            "test acc: 0.9332\n"
          ],
          "name": "stdout"
        }
      ]
    },
    {
      "cell_type": "code",
      "metadata": {
        "id": "fne0J4oO2Hx8",
        "colab_type": "code",
        "colab": {}
      },
      "source": [
        "model.save('model_save.h5')\n",
        "del model\n",
        "model = tf.keras.models.load_model('model_save.h5')"
      ],
      "execution_count": 0,
      "outputs": []
    }
  ]
}