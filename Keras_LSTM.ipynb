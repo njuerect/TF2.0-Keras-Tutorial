{
  "nbformat": 4,
  "nbformat_minor": 0,
  "metadata": {
    "colab": {
      "name": "Keras_LSTM.ipynb",
      "version": "0.3.2",
      "provenance": [],
      "collapsed_sections": [],
      "include_colab_link": true
    },
    "kernelspec": {
      "name": "python3",
      "display_name": "Python 3"
    }
  },
  "cells": [
    {
      "cell_type": "markdown",
      "metadata": {
        "id": "view-in-github",
        "colab_type": "text"
      },
      "source": [
        "<a href=\"https://colab.research.google.com/github/njuerect/TF2.0-Keras-Tutorial/blob/master/Keras_LSTM.ipynb\" target=\"_parent\"><img src=\"https://colab.research.google.com/assets/colab-badge.svg\" alt=\"Open In Colab\"/></a>"
      ]
    },
    {
      "cell_type": "code",
      "metadata": {
        "id": "W-vulnhs8yLj",
        "colab_type": "code",
        "colab": {}
      },
      "source": [
        "import tensorflow as tf\n",
        "import tensorflow.keras as keras\n",
        "import tensorflow.keras.layers as layers\n",
        "from tensorflow.keras.layers import Dense, Flatten, Conv2D, MaxPool2D, GlobalMaxPool2D\n",
        "from tensorflow.keras import Model\n",
        "from tensorflow.keras.layers import Reshape, Conv2DTranspose, UpSampling2D"
      ],
      "execution_count": 0,
      "outputs": []
    },
    {
      "cell_type": "code",
      "metadata": {
        "id": "5Mm2O9rO82cn",
        "colab_type": "code",
        "colab": {
          "base_uri": "https://localhost:8080/",
          "height": 527
        },
        "outputId": "b9d84480-e55d-4020-c150-3c1c91e7cff9"
      },
      "source": [
        "num_words = 2000\n",
        "num_tags = 12\n",
        "num_departments = 4\n",
        "\n",
        "body_input = keras.Input(shape=(None,), name='body')\n",
        "title_input = keras.Input(shape=(None,), name='title')\n",
        "tag_input = keras.Input(shape=(num_tags,), name='tag')\n",
        "\n",
        "body_feat = layers.Embedding(num_words, 64)(body_input)\n",
        "title_feat = layers.Embedding(num_words, 64)(title_input)\n",
        "\n",
        "body_feat = layers.LSTM(32)(body_feat)\n",
        "title_feat = layers.LSTM(128)(title_feat)\n",
        "features = layers.concatenate([title_feat, body_feat, tag_input])\n",
        "\n",
        "priority_pred = layers.Dense(1, activation='sigmoid', name='priority')(features)\n",
        "department_pred = layers.Dense(num_departments, activation='softmax', name='department')(features)\n",
        "\n",
        "model = Model(inputs = [body_input, title_input, tag_input],\n",
        "             outputs = [priority_pred, department_pred])\n",
        "model.summary()\n"
      ],
      "execution_count": 7,
      "outputs": [
        {
          "output_type": "stream",
          "text": [
            "Model: \"model\"\n",
            "__________________________________________________________________________________________________\n",
            "Layer (type)                    Output Shape         Param #     Connected to                     \n",
            "==================================================================================================\n",
            "title (InputLayer)              [(None, None)]       0                                            \n",
            "__________________________________________________________________________________________________\n",
            "body (InputLayer)               [(None, None)]       0                                            \n",
            "__________________________________________________________________________________________________\n",
            "embedding_5 (Embedding)         (None, None, 64)     128000      title[0][0]                      \n",
            "__________________________________________________________________________________________________\n",
            "embedding_4 (Embedding)         (None, None, 64)     128000      body[0][0]                       \n",
            "__________________________________________________________________________________________________\n",
            "unified_lstm_1 (UnifiedLSTM)    (None, 128)          98816       embedding_5[0][0]                \n",
            "__________________________________________________________________________________________________\n",
            "unified_lstm (UnifiedLSTM)      (None, 32)           12416       embedding_4[0][0]                \n",
            "__________________________________________________________________________________________________\n",
            "tag (InputLayer)                [(None, 12)]         0                                            \n",
            "__________________________________________________________________________________________________\n",
            "concatenate_1 (Concatenate)     (None, 172)          0           unified_lstm_1[0][0]             \n",
            "                                                                 unified_lstm[0][0]               \n",
            "                                                                 tag[0][0]                        \n",
            "__________________________________________________________________________________________________\n",
            "priority (Dense)                (None, 1)            173         concatenate_1[0][0]              \n",
            "__________________________________________________________________________________________________\n",
            "department (Dense)              (None, 4)            692         concatenate_1[0][0]              \n",
            "==================================================================================================\n",
            "Total params: 368,097\n",
            "Trainable params: 368,097\n",
            "Non-trainable params: 0\n",
            "__________________________________________________________________________________________________\n"
          ],
          "name": "stdout"
        }
      ]
    },
    {
      "cell_type": "code",
      "metadata": {
        "id": "IfFNZKAg-_Te",
        "colab_type": "code",
        "colab": {}
      },
      "source": [
        "model.compile(optimizer = keras.optimizers.RMSprop(1e-3), \n",
        "             loss = {'priority': 'binary_crossentropy',\n",
        "                    'department': 'categorical_crossentropy'},\n",
        "             loss_weights=[1., 0.2])"
      ],
      "execution_count": 0,
      "outputs": []
    },
    {
      "cell_type": "code",
      "metadata": {
        "id": "eBh0PzTC__6G",
        "colab_type": "code",
        "colab": {
          "base_uri": "https://localhost:8080/",
          "height": 187
        },
        "outputId": "36e08fe7-0e5a-49b0-c506-ad54f8043d95"
      },
      "source": [
        "import numpy as np\n",
        "# 载入输入数据\n",
        "title_data = np.random.randint(num_words, size=(1280, 10))\n",
        "body_data = np.random.randint(num_words, size=(1280, 100))\n",
        "tag_data = np.random.randint(2, size=(1280, num_tags)).astype('float32')\n",
        "# 标签\n",
        "priority_label = np.random.random(size=(1280, 1))\n",
        "department_label = np.random.randint(2, size=(1280, num_departments))\n",
        "# 训练\n",
        "history = model.fit(\n",
        "    {'title': title_data, 'body':body_data, 'tag':tag_data},\n",
        "    {'priority':priority_label, 'department':department_label},\n",
        "    batch_size=32,\n",
        "    epochs=5\n",
        ")"
      ],
      "execution_count": 9,
      "outputs": [
        {
          "output_type": "stream",
          "text": [
            "Epoch 1/5\n",
            "1280/1280 [==============================] - 10s 8ms/sample - loss: 1.2570 - priority_loss: 0.6953 - department_loss: 2.8087\n",
            "Epoch 2/5\n",
            "1280/1280 [==============================] - 10s 8ms/sample - loss: 1.2089 - priority_loss: 0.6509 - department_loss: 2.7899\n",
            "Epoch 3/5\n",
            "1280/1280 [==============================] - 10s 8ms/sample - loss: 1.1350 - priority_loss: 0.5798 - department_loss: 2.7762\n",
            "Epoch 4/5\n",
            "1280/1280 [==============================] - 10s 8ms/sample - loss: 1.0915 - priority_loss: 0.5400 - department_loss: 2.7571\n",
            "Epoch 5/5\n",
            "1280/1280 [==============================] - 10s 8ms/sample - loss: 1.0669 - priority_loss: 0.5228 - department_loss: 2.7203\n"
          ],
          "name": "stdout"
        }
      ]
    }
  ]
}