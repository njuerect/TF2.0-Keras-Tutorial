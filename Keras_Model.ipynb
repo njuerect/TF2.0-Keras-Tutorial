{
  "nbformat": 4,
  "nbformat_minor": 0,
  "metadata": {
    "colab": {
      "name": "Keras-Model.ipynb",
      "version": "0.3.2",
      "provenance": [],
      "collapsed_sections": [],
      "include_colab_link": true
    },
    "kernelspec": {
      "name": "python3",
      "display_name": "Python 3"
    }
  },
  "cells": [
    {
      "cell_type": "markdown",
      "metadata": {
        "id": "view-in-github",
        "colab_type": "text"
      },
      "source": [
        "<a href=\"https://colab.research.google.com/github/njuerect/TF2.0-Keras-Tutorial/blob/master/Keras_Model.ipynb\" target=\"_parent\"><img src=\"https://colab.research.google.com/assets/colab-badge.svg\" alt=\"Open In Colab\"/></a>"
      ]
    },
    {
      "cell_type": "code",
      "metadata": {
        "id": "-cNxr9pW4TK7",
        "colab_type": "code",
        "colab": {}
      },
      "source": [
        "import tensorflow as tf\n",
        "from tensorflow.keras.layers import Dense, Flatten, Conv2D, MaxPool2D, GlobalMaxPool2D\n",
        "from tensorflow.keras import Model"
      ],
      "execution_count": 0,
      "outputs": []
    },
    {
      "cell_type": "code",
      "metadata": {
        "id": "fXGvHewv4WRG",
        "colab_type": "code",
        "colab": {
          "base_uri": "https://localhost:8080/",
          "height": 391
        },
        "outputId": "72b919aa-caa8-4964-a133-4f60f253ad60"
      },
      "source": [
        "encode_input = tf.keras.Input(shape=(28,28,1), name='img')\n",
        "h1 = Conv2D(16, 3, activation='relu')(encode_input)\n",
        "h2 = Conv2D(32, 3, activation='relu')(h1)\n",
        "h3 = MaxPool2D(3)(h2)\n",
        "h4 = Conv2D(32, 3, activation='relu')(h3)\n",
        "h5 = Conv2D(16, 3, activation='relu')(h4)\n",
        "encode_output = GlobalMaxPool2D()(h5)\n",
        "encode_model = tf.keras.Model(inputs = encode_input, outputs = encode_output, name='encoder')\n",
        "encode_model.summary()"
      ],
      "execution_count": 4,
      "outputs": [
        {
          "output_type": "stream",
          "text": [
            "Model: \"encoder\"\n",
            "_________________________________________________________________\n",
            "Layer (type)                 Output Shape              Param #   \n",
            "=================================================================\n",
            "img (InputLayer)             [(None, 28, 28, 1)]       0         \n",
            "_________________________________________________________________\n",
            "conv2d_4 (Conv2D)            (None, 26, 26, 16)        160       \n",
            "_________________________________________________________________\n",
            "conv2d_5 (Conv2D)            (None, 24, 24, 32)        4640      \n",
            "_________________________________________________________________\n",
            "max_pooling2d_1 (MaxPooling2 (None, 8, 8, 32)          0         \n",
            "_________________________________________________________________\n",
            "conv2d_6 (Conv2D)            (None, 6, 6, 32)          9248      \n",
            "_________________________________________________________________\n",
            "conv2d_7 (Conv2D)            (None, 4, 4, 16)          4624      \n",
            "_________________________________________________________________\n",
            "global_max_pooling2d_1 (Glob (None, 16)                0         \n",
            "=================================================================\n",
            "Total params: 18,672\n",
            "Trainable params: 18,672\n",
            "Non-trainable params: 0\n",
            "_________________________________________________________________\n"
          ],
          "name": "stdout"
        }
      ]
    },
    {
      "cell_type": "code",
      "metadata": {
        "id": "m5h1xDQh5WNp",
        "colab_type": "code",
        "colab": {}
      },
      "source": [
        "from tensorflow.keras.layers import Reshape, Conv2DTranspose, UpSampling2D"
      ],
      "execution_count": 0,
      "outputs": []
    },
    {
      "cell_type": "code",
      "metadata": {
        "id": "dMtmVuTl5mSU",
        "colab_type": "code",
        "colab": {
          "base_uri": "https://localhost:8080/",
          "height": 595
        },
        "outputId": "a865af90-1964-4447-fb3d-76ff0df02ff7"
      },
      "source": [
        "l1 = Reshape((4, 4, 1))(encode_output)\n",
        "l2 = Conv2DTranspose(16, 3, activation='relu')(l1)\n",
        "l3 = Conv2DTranspose(32, 3, activation='relu')(l2)\n",
        "l4 = UpSampling2D(3)(l3)\n",
        "l5 = Conv2DTranspose(16, 3, activation='relu')(l4)\n",
        "decode_output = Conv2DTranspose(1, 3, activation='relu')(l5)\n",
        "\n",
        "autoencoder = Model(inputs = encode_input, outputs = decode_output, name='autoencoder')\n",
        "autoencoder.summary()"
      ],
      "execution_count": 6,
      "outputs": [
        {
          "output_type": "stream",
          "text": [
            "Model: \"autoencoder\"\n",
            "_________________________________________________________________\n",
            "Layer (type)                 Output Shape              Param #   \n",
            "=================================================================\n",
            "img (InputLayer)             [(None, 28, 28, 1)]       0         \n",
            "_________________________________________________________________\n",
            "conv2d_4 (Conv2D)            (None, 26, 26, 16)        160       \n",
            "_________________________________________________________________\n",
            "conv2d_5 (Conv2D)            (None, 24, 24, 32)        4640      \n",
            "_________________________________________________________________\n",
            "max_pooling2d_1 (MaxPooling2 (None, 8, 8, 32)          0         \n",
            "_________________________________________________________________\n",
            "conv2d_6 (Conv2D)            (None, 6, 6, 32)          9248      \n",
            "_________________________________________________________________\n",
            "conv2d_7 (Conv2D)            (None, 4, 4, 16)          4624      \n",
            "_________________________________________________________________\n",
            "global_max_pooling2d_1 (Glob (None, 16)                0         \n",
            "_________________________________________________________________\n",
            "reshape (Reshape)            (None, 4, 4, 1)           0         \n",
            "_________________________________________________________________\n",
            "conv2d_transpose (Conv2DTran (None, 6, 6, 16)          160       \n",
            "_________________________________________________________________\n",
            "conv2d_transpose_1 (Conv2DTr (None, 8, 8, 32)          4640      \n",
            "_________________________________________________________________\n",
            "up_sampling2d (UpSampling2D) (None, 24, 24, 32)        0         \n",
            "_________________________________________________________________\n",
            "conv2d_transpose_2 (Conv2DTr (None, 26, 26, 16)        4624      \n",
            "_________________________________________________________________\n",
            "conv2d_transpose_3 (Conv2DTr (None, 28, 28, 1)         145       \n",
            "=================================================================\n",
            "Total params: 28,241\n",
            "Trainable params: 28,241\n",
            "Non-trainable params: 0\n",
            "_________________________________________________________________\n"
          ],
          "name": "stdout"
        }
      ]
    },
    {
      "cell_type": "code",
      "metadata": {
        "id": "sIgu9UkD6TaF",
        "colab_type": "code",
        "colab": {}
      },
      "source": [
        ""
      ],
      "execution_count": 0,
      "outputs": []
    }
  ]
}